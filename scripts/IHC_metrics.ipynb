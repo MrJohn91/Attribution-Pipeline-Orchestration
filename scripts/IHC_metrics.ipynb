{
 "cells": [
  {
   "cell_type": "markdown",
   "metadata": {},
   "source": [
    "### Making the API Call to Get IHC Data"
   ]
  },
  {
   "cell_type": "code",
   "execution_count": null,
   "metadata": {},
   "outputs": [],
   "source": [
    "from api_key import IHC_API_KEY"
   ]
  },
  {
   "cell_type": "code",
   "execution_count": null,
   "metadata": {},
   "outputs": [],
   "source": [
    "import sqlite3\n",
    "import pandas as pd\n",
    "\n",
    "db_path = \"data/challenge.db\"\n",
    "conn = sqlite3.connect(db_path)"
   ]
  },
  {
   "cell_type": "code",
   "execution_count": null,
   "metadata": {},
   "outputs": [],
   "source": [
    "query = \"SELECT name FROM sqlite_master WHERE type='table';\"\n",
    "tables = pd.read_sql_query(query, conn)\n",
    "tables"
   ]
  },
  {
   "cell_type": "code",
   "execution_count": null,
   "metadata": {},
   "outputs": [],
   "source": [
    "query = \"PRAGMA table_info(attribution_customer_journey);\"\n",
    "schema = pd.read_sql_query(query, conn)\n",
    "print(schema)"
   ]
  },
  {
   "cell_type": "code",
   "execution_count": null,
   "metadata": {},
   "outputs": [],
   "source": [
    "import json\n",
    "\n",
    "with open('customer_journeys.json', 'r') as f:\n",
    "    api_data = json.load(f)\n",
    "\n",
    "print(api_data['customer_journeys'])"
   ]
  },
  {
   "cell_type": "code",
   "execution_count": null,
   "metadata": {},
   "outputs": [],
   "source": [
    "def chunk_data(data, chunk_size):\n",
    "    \"\"\"Split data into smaller chunks.\"\"\"\n",
    "    keys = list(data.keys())  \n",
    "    for i in range(0, len(keys), chunk_size):\n",
    "        yield {k: data[k] for k in keys[i:i + chunk_size]}\n",
    "\n",
    "chunks = list(chunk_data(api_data['customer_journeys'], 100))\n",
    "print(f\"Total Chunks: {len(chunks)}\")"
   ]
  },
  {
   "cell_type": "code",
   "execution_count": null,
   "metadata": {},
   "outputs": [],
   "source": [
    "for i, chunk in enumerate(chunks, 1):\n",
    "    print(f\"Chunk {i}: {len(chunk)} customer journeys\")"
   ]
  },
  {
   "cell_type": "code",
   "execution_count": null,
   "metadata": {},
   "outputs": [],
   "source": [
    "import requests\n",
    "import json\n",
    "\n",
    "api_url = \"https://api.ihc-attribution.com/v1/compute_ihc?conv_type_id=data_challenge\"\n",
    "api_key = IHC_API_KEY"
   ]
  },
  {
   "cell_type": "code",
   "execution_count": null,
   "metadata": {},
   "outputs": [],
   "source": [
    "test_data = [\n",
    "    {\n",
    "        \"conversion_id\": \"00179676da577b9b60ddf4b5dc8af836d4314f74b83aa277a8549254d85aa82f\",\n",
    "        \"session_id\": \"7da58cbf848ffde3f453d0abec375d9ceeb8b948ed9122d4d94bb63fcc9cec49\",\n",
    "        \"timestamp\": \"2023-09-01 13:01:28\",\n",
    "        \"channel_label\": \"FB & IG Ads\",\n",
    "        \"holder_engagement\": 1,\n",
    "        \"closer_engagement\": 1,\n",
    "        \"conversion\": 1,\n",
    "        \"impression_interaction\": 0\n",
    "    }\n",
    "]\n",
    "\n",
    "test_request = {\n",
    "    \"customer_journeys\": test_data,\n",
    "    \"redistribution_parameter\": api_data[\"redistribution_parameter\"]\n",
    "}\n",
    "\n",
    "response = requests.post(\n",
    "    api_url,\n",
    "    data=json.dumps(test_request),\n",
    "    headers={\"Content-Type\": \"application/json\", \"x-api-key\": api_key}\n",
    ")\n",
    "\n",
    "print(f\"Status Code: {response.status_code}\")\n",
    "try:\n",
    "    response_data = response.json()\n",
    "    print(json.dumps(response_data, indent=4))\n",
    "except json.JSONDecodeError:\n",
    "    print(\"Invalid JSON response\")"
   ]
  },
  {
   "cell_type": "code",
   "execution_count": null,
   "metadata": {},
   "outputs": [],
   "source": [
    "processed_results = []\n",
    "\n",
    "# Iterate through chunks\n",
    "for idx, chunk in enumerate(chunks, start=1):\n",
    "    print(f\"Processing Chunk {idx}/{len(chunks)}...\")\n",
    "    \n",
    "    body = {\n",
    "        \"customer_journeys\": chunk,\n",
    "        \"redistribution_parameter\": api_data[\"redistribution_parameter\"]\n",
    "    }\n",
    "\n",
    "    try:\n",
    "        response = requests.post(\n",
    "            api_url,\n",
    "            data=json.dumps(body),\n",
    "            headers={\"Content-Type\": \"application/json\", \"x-api-key\": api_key}\n",
    "        )\n",
    "        response.raise_for_status()  \n",
    "\n",
    "        response_data = response.json()\n",
    "        print(f\"Chunk {idx} Status Code: {response_data['statusCode']}\")\n",
    "\n",
    "        if \"value\" in response_data:\n",
    "            processed_results.extend(response_data[\"value\"])\n",
    "            print(f\"Sessions Processed in Chunk {idx}: {len(response_data['value'])}\")\n",
    "\n",
    "        if \"partialFailureErrors\" in response_data and response_data[\"partialFailureErrors\"]:\n",
    "            print(f\"Errors in Chunk {idx}: {response_data['partialFailureErrors']}\")\n",
    "\n",
    "    except requests.exceptions.RequestException as e:\n",
    "        print(f\"Failed to process Chunk {idx}: {e}\")\n",
    "\n",
    "print(f\"Total Sessions Processed: {len(processed_results)}\")"
   ]
  },
  {
   "cell_type": "code",
   "execution_count": null,
   "metadata": {},
   "outputs": [],
   "source": [
    "print(json.dumps(processed_results[:3], indent=4))"
   ]
  },
  {
   "cell_type": "code",
   "execution_count": null,
   "metadata": {},
   "outputs": [],
   "source": [
    "import pandas as pd\n",
    "\n",
    "results_df = pd.DataFrame(processed_results)\n",
    "print(results_df.head())"
   ]
  },
  {
   "cell_type": "code",
   "execution_count": null,
   "metadata": {},
   "outputs": [],
   "source": [
    "results_df = results_df.rename(columns={\"conversion_id\": \"conv_id\"})"
   ]
  },
  {
   "cell_type": "code",
   "execution_count": null,
   "metadata": {},
   "outputs": [],
   "source": [
    "print(results_df.head())"
   ]
  },
  {
   "cell_type": "code",
   "execution_count": null,
   "metadata": {},
   "outputs": [],
   "source": [
    "results_df = results_df[[\"conv_id\", \"session_id\", \"ihc\"]]"
   ]
  },
  {
   "cell_type": "code",
   "execution_count": null,
   "metadata": {},
   "outputs": [],
   "source": [
    "results_df.to_sql(\"attribution_customer_journey\", conn, if_exists=\"append\", index=False)\n",
    "\n",
    "query = \"SELECT * FROM attribution_customer_journey LIMIT 5;\"\n",
    "inserted_data = pd.read_sql_query(query, conn)\n",
    "print(inserted_data)"
   ]
  },
  {
   "cell_type": "code",
   "execution_count": null,
   "metadata": {},
   "outputs": [],
   "source": [
    "session_sources_df = pd.read_sql_query(\"SELECT * FROM session_sources\", conn)\n",
    "session_costs_df = pd.read_sql_query(\"SELECT * FROM session_costs\", conn)\n",
    "conversions_df = pd.read_sql_query(\"SELECT * FROM conversions\", conn)\n",
    "attribution_journey_df = pd.read_sql_query(\"SELECT * FROM attribution_customer_journey\", conn)\n",
    "\n",
    "merged_df = session_sources_df.merge(session_costs_df, on=\"session_id\", how=\"left\")\n",
    "\n",
    "merged_df = merged_df.merge(attribution_journey_df, on=\"session_id\", how=\"inner\")\n",
    "\n",
    "merged_df = merged_df.merge(conversions_df, on=\"conv_id\", how=\"inner\")\n",
    "\n",
    "print(merged_df.head())"
   ]
  },
  {
   "cell_type": "code",
   "execution_count": null,
   "metadata": {},
   "outputs": [],
   "source": [
    "# Group the data by channel name and event date\n",
    "channel_reporting = (\n",
    "    merged_df\n",
    "    .groupby([\"channel_name\", \"event_date\"])\n",
    "    .agg(\n",
    "        total_cost=(\"cost\", \"sum\"),\n",
    "        total_ihc=(\"ihc\", \"sum\"),\n",
    "        total_ihc_revenue=(\"revenue\", lambda x: (merged_df.loc[x.index, \"ihc\"] * x).sum())\n",
    "    )\n",
    "    .reset_index()\n",
    ")\n",
    "\n",
    "channel_reporting[\"CPO\"] = channel_reporting[\"total_cost\"] / channel_reporting[\"total_ihc\"]\n",
    "\n",
    "# Skip 'Organic Traffic' and 'Direct Traffic' from ROAS calculations\n",
    "channel_reporting[\"ROAS\"] = channel_reporting.apply(\n",
    "    lambda row: 'N/A' if row[\"channel_name\"] in ['Organic Traffic', 'Direct Traffic'] or row[\"total_cost\"] == 0 \n",
    "                else round(row[\"total_ihc_revenue\"] / row[\"total_cost\"], 2), axis=1\n",
    ")\n",
    "\n",
    "channel_reporting[\"CPO\"] = channel_reporting[\"CPO\"].round(2)\n",
    "\n",
    "channel_reporting.to_sql(\"channel_reporting\", conn, if_exists=\"replace\", index=False)\n",
    "\n",
    "print(channel_reporting.head())"
   ]
  },
  {
   "cell_type": "code",
   "execution_count": null,
   "metadata": {},
   "outputs": [],
   "source": [
    "channel_reporting.to_csv(\"channel_reporting.csv\", index=False)"
   ]
  },
  {
   "cell_type": "code",
   "execution_count": null,
   "metadata": {},
   "outputs": [],
   "source": [
    "import pandas as pd\n",
    "\n",
    "file_path = \"/Users/vee/Desktop/ihc_data_pipeline/channel_reporting.csv\"\n",
    "df = pd.read_csv(file_path)\n",
    "\n",
    "print(df.head())"
   ]
  },
  {
   "cell_type": "markdown",
   "metadata": {},
   "source": [
    "#### This scatter plot shows the relationship between total cost and total revenue for each marketing channel.\tChannels with high total costs but low revenues are clustered towards the bottom. These represent inefficient spending, where more cost is incurred but revenue isn’t scaling significantly.\n",
    "#### Channels with high revenue and moderate costs show efficient marketing spend. They represent high-performing channels in terms of revenue generation with reasonable investment."
   ]
  },
  {
   "cell_type": "code",
   "execution_count": null,
   "metadata": {},
   "outputs": [],
   "source": [
    "import plotly.express as px\n",
    "fig = px.bar(\n",
    "    df.groupby('channel_name').agg(\n",
    "        total_ihc=('total_ihc', 'sum')\n",
    "    ).sort_values(by='total_ihc', ascending=False).reset_index(), \n",
    "    x='channel_name',  \n",
    "    y='total_ihc',\n",
    "    title=\"IHC Distribution Across Channels\",\n",
    "    labels={\"total_ihc\": \"Total IHC\", \"channel_name\": \"Marketing Channel\"}\n",
    ")\n",
    "\n",
    "fig.show()"
   ]
  },
  {
   "cell_type": "markdown",
   "metadata": {},
   "source": [
    "#### This bar chart shows how the total IHC Initializer, Holder, and Closer stages is distributed across channels.\n",
    "#### \tPerformance Max dominate the chart with the highest total IHC values, indicating that this channels contribute significantly across the customer journey Initializer, Holder, and Closer stages.\n",
    "#### Channels like TikTok Ads and Microsoft Ads contribute less to the IHC, suggesting they have a smaller impact on driving customers through these stages."
   ]
  },
  {
   "cell_type": "code",
   "execution_count": null,
   "metadata": {},
   "outputs": [],
   "source": [
    "fig = px.bar(\n",
    "    df.groupby('channel_name').agg(\n",
    "        CPO=('CPO', 'mean')\n",
    "    ).sort_values(by='CPO', ascending=False).reset_index(), \n",
    "    x='channel_name',  \n",
    "    y='CPO',  \n",
    "    title=\"Cost Per Order Across Channels\",\n",
    "    labels={\"CPO\": \"Cost Per Order (€)\", \"channel_name\": \"Marketing Channel\"}\n",
    ")\n",
    "\n",
    "fig.show()"
   ]
  },
  {
   "cell_type": "markdown",
   "metadata": {},
   "source": [
    "#### This chart shows the cost per order (CPO) for each channel.\n",
    "####  TikTok Ads and FB & IG Ads have the highest CPO, indicating they are more expensive to acquire a customer compared to other channels like Referral or Social Organic, which have lower CPO values.\n",
    "#### Channels with higher CPO may need optimization, either by reducing costs or increasing conversion efficiency"
   ]
  },
  {
   "cell_type": "code",
   "execution_count": null,
   "metadata": {},
   "outputs": [],
   "source": [
    "channel_reporting[\"ROAS\"] = pd.to_numeric(channel_reporting[\"ROAS\"], errors='coerce')\n",
    "\n",
    "channel_reporting = channel_reporting.dropna(subset=[\"ROAS\"])\n",
    "\n",
    "channel_roas = (\n",
    "    channel_reporting.groupby('channel_name')\n",
    "    .agg(ROAS=('ROAS', 'mean'))\n",
    "    .reset_index()\n",
    "    .sort_values(by='ROAS', ascending=False) \n",
    ")\n",
    "\n",
    "fig = px.bar(\n",
    "    channel_roas,\n",
    "    x='channel_name', \n",
    "    y='ROAS',  \n",
    "    title=\"Return on Ad Spend (ROAS) by Channel\",\n",
    "    labels={\"ROAS\": \"ROAS\", \"channel_name\": \"Marketing Channel\"}\n",
    ")\n",
    "\n",
    "fig.show()"
   ]
  },
  {
   "cell_type": "markdown",
   "metadata": {},
   "source": [
    "#### \tThe chart shows ROAS (Return on Ad Spend) for each channel.\n",
    "#### Microsoft Ads and paid search have higher ROAS, suggesting that these channels are highly efficient in generating revenue relative to the cost.\n",
    "#### TikTok Ads and FB & IG Ads have lower ROAS, suggesting lower revenue generation per euro spent on these channels, which may require further analysis and adjustment."
   ]
  },
  {
   "cell_type": "code",
   "execution_count": null,
   "metadata": {},
   "outputs": [],
   "source": [
    "df['event_date'] = pd.to_datetime(df['event_date'])\n",
    "\n",
    "# Line plot\n",
    "fig = px.line(\n",
    "    df,\n",
    "    x='event_date',\n",
    "    y='total_ihc_revenue',\n",
    "    title=\"Total Revenue Over Time\",\n",
    "    labels={\"event_date\": \"Event Date\", \"total_ihc_revenue\": \"Total Revenue (€)\"}\n",
    ")\n",
    "fig.update_traces(mode='lines+markers')\n",
    "fig.show()"
   ]
  },
  {
   "cell_type": "markdown",
   "metadata": {},
   "source": [
    "#### This line chart shows how the total revenue fluctuated over time.\n",
    "#### Revenue spikes on certain dates Sept 4, 2023 could be specific campaigns or events that led to higher conversions. This could be attributed to specific marketing pushes or seasonal trends."
   ]
  },
  {
   "cell_type": "code",
   "execution_count": null,
   "metadata": {},
   "outputs": [],
   "source": [
    "# Bar chart\n",
    "fig = px.bar(\n",
    "    df,\n",
    "    x='channel_name',\n",
    "    y='total_cost',\n",
    "    title=\"Total Marketing Costs by Channel\",\n",
    "    labels={\"channel_name\": \"Channel Name\", \"total_cost\": \"Total Cost (€)\"},\n",
    "    color='total_cost',\n",
    "    color_continuous_scale='Viridis'\n",
    ")\n",
    "fig.update_layout(xaxis={'categoryorder': 'total descending'})\n",
    "fig.show()"
   ]
  },
  {
   "cell_type": "markdown",
   "metadata": {},
   "source": [
    "#### The graph shows that Performance Max is the highest spender in terms of total marketing costs, with the bar extending close to 500 EUR. This suggests that a significant portion of the marketing budget is being allocated here."
   ]
  },
  {
   "cell_type": "code",
   "execution_count": null,
   "metadata": {},
   "outputs": [],
   "source": [
    "top_performing_channels = df.groupby('channel_name').agg(\n",
    "    total_revenue=('total_ihc_revenue', 'sum'),\n",
    "    ROAS=('ROAS', 'mean')\n",
    ").sort_values(by='total_revenue', ascending=False).head(10) \n",
    "\n",
    "fig = px.bar(\n",
    "    top_performing_channels,  \n",
    "    x=top_performing_channels.index,\n",
    "    y='total_revenue',\n",
    "    title=\"Top 10 Channels by Total Revenue\",\n",
    "    labels={\"total_revenue\": \"Total Revenue (€)\", \"channel_name\": \"Marketing Channel\"}\n",
    ")\n",
    "fig.show()"
   ]
  },
  {
   "cell_type": "markdown",
   "metadata": {},
   "source": [
    "#### Direct Traffic and Newsletter appear to be the most successful channels in terms of revenue generation. This might suggest that organic or direct interactions with the brand such as returning visitors or email marketing campaigns are key contributors.\n"
   ]
  },
  {
   "cell_type": "code",
   "execution_count": null,
   "metadata": {},
   "outputs": [],
   "source": [
    "query = \"SELECT name FROM sqlite_master WHERE type='table';\"\n",
    "tables = conn.execute(query).fetchall()\n",
    "\n",
    "for table in tables:\n",
    "    table_name = table[0]\n",
    "    count_query = f\"SELECT COUNT(*) FROM {table_name}\"\n",
    "    row_count = conn.execute(count_query).fetchone()[0]\n",
    "    print(f\"Table: {table_name}, Row count: {row_count}\")\n"
   ]
  }
 ],
 "metadata": {
  "kernelspec": {
   "display_name": "base",
   "language": "python",
   "name": "python3"
  },
  "language_info": {
   "codemirror_mode": {
    "name": "ipython",
    "version": 3
   },
   "file_extension": ".py",
   "mimetype": "text/x-python",
   "name": "python",
   "nbconvert_exporter": "python",
   "pygments_lexer": "ipython3",
   "version": "3.11.9"
  }
 },
 "nbformat": 4,
 "nbformat_minor": 2
}
